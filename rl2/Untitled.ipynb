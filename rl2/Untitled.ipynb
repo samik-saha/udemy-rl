{
 "cells": [
  {
   "cell_type": "code",
   "execution_count": 1,
   "metadata": {},
   "outputs": [],
   "source": [
    "import gym"
   ]
  },
  {
   "cell_type": "code",
   "execution_count": 12,
   "metadata": {},
   "outputs": [
    {
     "data": {
      "text/plain": [
       "array([-0.02689933, -0.04728182,  0.00739829, -0.01185246])"
      ]
     },
     "execution_count": 12,
     "metadata": {},
     "output_type": "execute_result"
    }
   ],
   "source": [
    "env = gym.make('CartPole-v0')\n"
   ]
  },
  {
   "cell_type": "code",
   "execution_count": 15,
   "metadata": {},
   "outputs": [
    {
     "name": "stdout",
     "output_type": "stream",
     "text": [
      "[ 0.04342171  0.16500669 -0.00439665 -0.34166697]\n",
      "[ 0.04672185 -0.03005244 -0.01122999 -0.05037372]\n",
      "[ 0.0461208  -0.22501157 -0.01223747  0.238745  ]\n",
      "[ 0.04162057 -0.41995658 -0.00746257  0.52754289]\n",
      "[ 0.03322144 -0.22473043  0.00308829  0.23251785]\n",
      "[ 0.02872683 -0.41989638  0.00773865  0.52617332]\n",
      "[ 0.0203289  -0.61512636  0.01826211  0.82128467]\n",
      "[ 0.00802637 -0.81049338  0.03468781  1.11965509]\n",
      "[-0.0081835  -1.00605278  0.05708091  1.42301389]\n",
      "[-0.02830455 -0.81168125  0.08554119  1.14870414]\n",
      "[-0.04453818 -0.61777369  0.10851527  0.88402476]\n",
      "[-0.05689365 -0.42427931  0.12619576  0.62733131]\n",
      "[-0.06537924 -0.6209157   0.13874239  0.95694352]\n",
      "[-0.07779755 -0.42790464  0.15788126  0.71086851]\n",
      "[-0.08635564 -0.62481971  0.17209863  1.04879195]\n",
      "[-0.09885204 -0.4323467   0.19307447  0.81469499]\n",
      "[-0.10749897 -0.24031848  0.20936837  0.58841666]\n",
      "[-0.11230534 -0.43766212  0.2211367   0.93907343]\n",
      "18\n"
     ]
    }
   ],
   "source": [
    "env.reset()\n",
    "done = False\n",
    "count = 0\n",
    "while not done:\n",
    "    count += 1\n",
    "    observation, reward, done, info = env.step(env.action_space.sample())\n",
    "    print(observation)\n",
    "\n",
    "print(count)"
   ]
  },
  {
   "cell_type": "code",
   "execution_count": null,
   "metadata": {},
   "outputs": [],
   "source": []
  }
 ],
 "metadata": {
  "kernelspec": {
   "display_name": "Python 3",
   "language": "python",
   "name": "python3"
  },
  "language_info": {
   "codemirror_mode": {
    "name": "ipython",
    "version": 3
   },
   "file_extension": ".py",
   "mimetype": "text/x-python",
   "name": "python",
   "nbconvert_exporter": "python",
   "pygments_lexer": "ipython3",
   "version": "3.7.4"
  }
 },
 "nbformat": 4,
 "nbformat_minor": 4
}
